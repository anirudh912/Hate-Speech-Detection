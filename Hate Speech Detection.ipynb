{
 "cells": [
  {
   "cell_type": "markdown",
   "id": "85af5071",
   "metadata": {},
   "source": [
    "## Detecting hate speech using a pipeline built on XGB Classifier/SGD Classifier/Naive Bayes and comparing accuracy of each. "
   ]
  },
  {
   "cell_type": "code",
   "execution_count": 1,
   "id": "845eb99c",
   "metadata": {},
   "outputs": [],
   "source": [
    "# Importing libraries\n",
    "\n",
    "import pandas as pd\n",
    "import numpy as np\n",
    "import matplotlib.pyplot as plt\n",
    "import seaborn as sns\n",
    "import re\n",
    "\n",
    "from xgboost import XGBClassifier\n",
    "from sklearn.naive_bayes import MultinomialNB\n",
    "from sklearn.linear_model import SGDClassifier\n",
    "from sklearn.utils import resample\n",
    "from sklearn.metrics import f1_score\n",
    "from sklearn.model_selection import train_test_split\n",
    "from sklearn.pipeline import Pipeline\n",
    "from sklearn.feature_extraction.text import CountVectorizer, TfidfTransformer"
   ]
  },
  {
   "cell_type": "markdown",
   "id": "fa1e3bf4",
   "metadata": {},
   "source": [
    "#### Here df1 is training dataset and df2 is test dataset for ease of typing."
   ]
  },
  {
   "cell_type": "code",
   "execution_count": 2,
   "id": "8c31911f",
   "metadata": {},
   "outputs": [],
   "source": [
    "# Load data\n",
    "\n",
    "df1 = pd.read_csv(r'C:\\Users\\91988\\Downloads\\hate speech\\train.csv')\n",
    "df2 = pd.read_csv(r'C:\\Users\\91988\\Downloads\\hate speech\\test.csv')"
   ]
  },
  {
   "cell_type": "markdown",
   "id": "dc41f725",
   "metadata": {},
   "source": [
    "### Data Preprocessing"
   ]
  },
  {
   "cell_type": "code",
   "execution_count": 3,
   "id": "6a38dabb",
   "metadata": {},
   "outputs": [
    {
     "name": "stdout",
     "output_type": "stream",
     "text": [
      "(31962, 3)\n",
      "(17197, 2)\n"
     ]
    }
   ],
   "source": [
    "# Visualize and clean\n",
    "\n",
    "print(df1.shape)\n",
    "print(df2.shape)"
   ]
  },
  {
   "cell_type": "code",
   "execution_count": 4,
   "id": "b3c096a7",
   "metadata": {},
   "outputs": [
    {
     "name": "stdout",
     "output_type": "stream",
     "text": [
      "<class 'pandas.core.frame.DataFrame'>\n",
      "RangeIndex: 31962 entries, 0 to 31961\n",
      "Data columns (total 3 columns):\n",
      " #   Column  Non-Null Count  Dtype \n",
      "---  ------  --------------  ----- \n",
      " 0   id      31962 non-null  int64 \n",
      " 1   label   31962 non-null  int64 \n",
      " 2   tweet   31962 non-null  object\n",
      "dtypes: int64(2), object(1)\n",
      "memory usage: 749.2+ KB\n"
     ]
    }
   ],
   "source": [
    "df1.info()"
   ]
  },
  {
   "cell_type": "code",
   "execution_count": 5,
   "id": "310dc2f3",
   "metadata": {},
   "outputs": [
    {
     "name": "stdout",
     "output_type": "stream",
     "text": [
      "<class 'pandas.core.frame.DataFrame'>\n",
      "RangeIndex: 17197 entries, 0 to 17196\n",
      "Data columns (total 2 columns):\n",
      " #   Column  Non-Null Count  Dtype \n",
      "---  ------  --------------  ----- \n",
      " 0   id      17197 non-null  int64 \n",
      " 1   tweet   17197 non-null  object\n",
      "dtypes: int64(1), object(1)\n",
      "memory usage: 268.8+ KB\n"
     ]
    }
   ],
   "source": [
    "df2.info()"
   ]
  },
  {
   "cell_type": "code",
   "execution_count": 6,
   "id": "9c031183",
   "metadata": {},
   "outputs": [
    {
     "data": {
      "text/html": [
       "<div>\n",
       "<style scoped>\n",
       "    .dataframe tbody tr th:only-of-type {\n",
       "        vertical-align: middle;\n",
       "    }\n",
       "\n",
       "    .dataframe tbody tr th {\n",
       "        vertical-align: top;\n",
       "    }\n",
       "\n",
       "    .dataframe thead th {\n",
       "        text-align: right;\n",
       "    }\n",
       "</style>\n",
       "<table border=\"1\" class=\"dataframe\">\n",
       "  <thead>\n",
       "    <tr style=\"text-align: right;\">\n",
       "      <th></th>\n",
       "      <th>id</th>\n",
       "      <th>label</th>\n",
       "      <th>tweet</th>\n",
       "    </tr>\n",
       "  </thead>\n",
       "  <tbody>\n",
       "    <tr>\n",
       "      <th>0</th>\n",
       "      <td>1</td>\n",
       "      <td>0</td>\n",
       "      <td>@user when a father is dysfunctional and is s...</td>\n",
       "    </tr>\n",
       "    <tr>\n",
       "      <th>1</th>\n",
       "      <td>2</td>\n",
       "      <td>0</td>\n",
       "      <td>@user @user thanks for #lyft credit i can't us...</td>\n",
       "    </tr>\n",
       "    <tr>\n",
       "      <th>2</th>\n",
       "      <td>3</td>\n",
       "      <td>0</td>\n",
       "      <td>bihday your majesty</td>\n",
       "    </tr>\n",
       "    <tr>\n",
       "      <th>3</th>\n",
       "      <td>4</td>\n",
       "      <td>0</td>\n",
       "      <td>#model   i love u take with u all the time in ...</td>\n",
       "    </tr>\n",
       "    <tr>\n",
       "      <th>4</th>\n",
       "      <td>5</td>\n",
       "      <td>0</td>\n",
       "      <td>factsguide: society now    #motivation</td>\n",
       "    </tr>\n",
       "  </tbody>\n",
       "</table>\n",
       "</div>"
      ],
      "text/plain": [
       "   id  label                                              tweet\n",
       "0   1      0   @user when a father is dysfunctional and is s...\n",
       "1   2      0  @user @user thanks for #lyft credit i can't us...\n",
       "2   3      0                                bihday your majesty\n",
       "3   4      0  #model   i love u take with u all the time in ...\n",
       "4   5      0             factsguide: society now    #motivation"
      ]
     },
     "execution_count": 6,
     "metadata": {},
     "output_type": "execute_result"
    }
   ],
   "source": [
    "df1.head()"
   ]
  },
  {
   "cell_type": "code",
   "execution_count": 7,
   "id": "99bcb187",
   "metadata": {},
   "outputs": [
    {
     "data": {
      "text/html": [
       "<div>\n",
       "<style scoped>\n",
       "    .dataframe tbody tr th:only-of-type {\n",
       "        vertical-align: middle;\n",
       "    }\n",
       "\n",
       "    .dataframe tbody tr th {\n",
       "        vertical-align: top;\n",
       "    }\n",
       "\n",
       "    .dataframe thead th {\n",
       "        text-align: right;\n",
       "    }\n",
       "</style>\n",
       "<table border=\"1\" class=\"dataframe\">\n",
       "  <thead>\n",
       "    <tr style=\"text-align: right;\">\n",
       "      <th></th>\n",
       "      <th>id</th>\n",
       "      <th>tweet</th>\n",
       "    </tr>\n",
       "  </thead>\n",
       "  <tbody>\n",
       "    <tr>\n",
       "      <th>0</th>\n",
       "      <td>31963</td>\n",
       "      <td>#studiolife #aislife #requires #passion #dedic...</td>\n",
       "    </tr>\n",
       "    <tr>\n",
       "      <th>1</th>\n",
       "      <td>31964</td>\n",
       "      <td>@user #white #supremacists want everyone to s...</td>\n",
       "    </tr>\n",
       "    <tr>\n",
       "      <th>2</th>\n",
       "      <td>31965</td>\n",
       "      <td>safe ways to heal your #acne!!    #altwaystohe...</td>\n",
       "    </tr>\n",
       "    <tr>\n",
       "      <th>3</th>\n",
       "      <td>31966</td>\n",
       "      <td>is the hp and the cursed child book up for res...</td>\n",
       "    </tr>\n",
       "    <tr>\n",
       "      <th>4</th>\n",
       "      <td>31967</td>\n",
       "      <td>3rd #bihday to my amazing, hilarious #nephew...</td>\n",
       "    </tr>\n",
       "  </tbody>\n",
       "</table>\n",
       "</div>"
      ],
      "text/plain": [
       "      id                                              tweet\n",
       "0  31963  #studiolife #aislife #requires #passion #dedic...\n",
       "1  31964   @user #white #supremacists want everyone to s...\n",
       "2  31965  safe ways to heal your #acne!!    #altwaystohe...\n",
       "3  31966  is the hp and the cursed child book up for res...\n",
       "4  31967    3rd #bihday to my amazing, hilarious #nephew..."
      ]
     },
     "execution_count": 7,
     "metadata": {},
     "output_type": "execute_result"
    }
   ],
   "source": [
    "df2.head()"
   ]
  },
  {
   "cell_type": "code",
   "execution_count": 8,
   "id": "3ead43c2",
   "metadata": {},
   "outputs": [
    {
     "data": {
      "text/plain": [
       "id       0\n",
       "label    0\n",
       "tweet    0\n",
       "dtype: int64"
      ]
     },
     "execution_count": 8,
     "metadata": {},
     "output_type": "execute_result"
    }
   ],
   "source": [
    "df1.isnull().sum()"
   ]
  },
  {
   "cell_type": "code",
   "execution_count": 9,
   "id": "9e02919b",
   "metadata": {},
   "outputs": [
    {
     "data": {
      "text/plain": [
       "id       0\n",
       "tweet    0\n",
       "dtype: int64"
      ]
     },
     "execution_count": 9,
     "metadata": {},
     "output_type": "execute_result"
    }
   ],
   "source": [
    "df2.isnull().sum()"
   ]
  },
  {
   "cell_type": "code",
   "execution_count": 10,
   "id": "394f35de",
   "metadata": {},
   "outputs": [
    {
     "name": "stdout",
     "output_type": "stream",
     "text": [
      "[0 1]\n"
     ]
    }
   ],
   "source": [
    "print(df1['label'].unique())"
   ]
  },
  {
   "cell_type": "markdown",
   "id": "cd4dc962",
   "metadata": {},
   "source": [
    "#### 0 = Viewer Friendly 1 = Hateful"
   ]
  },
  {
   "cell_type": "code",
   "execution_count": 11,
   "id": "e84709aa",
   "metadata": {},
   "outputs": [
    {
     "data": {
      "text/plain": [
       "<Axes: xlabel='label', ylabel='count'>"
      ]
     },
     "execution_count": 11,
     "metadata": {},
     "output_type": "execute_result"
    },
    {
     "data": {
      "image/png": "[encoded data removed]",
      "text/plain": [
       "<Figure size 640x480 with 1 Axes>"
      ]
     },
     "metadata": {},
     "output_type": "display_data"
    }
   ],
   "source": [
    "# Count plot\n",
    "\n",
    "df1['label'] = df1['label'].astype('category')\n",
    "sns.countplot(data = df1, x = 'label')"
   ]
  },
  {
   "cell_type": "code",
   "execution_count": 12,
   "id": "bf7f5e40",
   "metadata": {},
   "outputs": [],
   "source": [
    "# Data Cleaning\n",
    "\n",
    "def clean_txt(df, text_field):\n",
    "    df[text_field] = df[text_field].str.lower()\n",
    "    df[text_field] = df[text_field].apply(lambda elem: re.sub(r\"(@[A-Za-z0-9]+)|([^0-9A-Za-z \\t])|(\\w+:\\/\\/\\S+)|^rt|http.+?\", \"\", elem))\n",
    "    return df\n",
    "df1_clean = clean_txt(df1, 'tweet')\n",
    "df2_clean = clean_txt(df2, 'tweet')"
   ]
  },
  {
   "cell_type": "code",
   "execution_count": 13,
   "id": "23c7d138",
   "metadata": {},
   "outputs": [
    {
     "name": "stdout",
     "output_type": "stream",
     "text": [
      "Corellation between id and label is : 0.002780217051410005\n"
     ]
    }
   ],
   "source": [
    "# Corellation plot\n",
    "\n",
    "df1['label'] = df1['label'].astype('int64')\n",
    "correlation = df1['id'].corr(df1['label'])\n",
    "print(f'Corellation between id and label is : {correlation}')"
   ]
  },
  {
   "cell_type": "markdown",
   "id": "c5558990",
   "metadata": {},
   "source": [
    "#### So we can say that it's not just a few id's spreading hate, but is quite homogenous across the user-base. Hateful tweets overall is a small percentage of all tweets which leads to an imbalance in training data. Can be fixed by oversampling."
   ]
  },
  {
   "cell_type": "code",
   "execution_count": 14,
   "id": "087f3a73",
   "metadata": {},
   "outputs": [
    {
     "data": {
      "text/plain": [
       "label\n",
       "0    29720\n",
       "1    29720\n",
       "Name: count, dtype: int64"
      ]
     },
     "execution_count": 14,
     "metadata": {},
     "output_type": "execute_result"
    }
   ],
   "source": [
    "# Oversampling\n",
    "\n",
    "df1_majority = df1_clean[df1_clean.label == 0]\n",
    "df1_minority = df1_clean[df1_clean.label == 1]\n",
    "df1_minority_new = resample(df1_minority, replace = True, n_samples = len(df1_majority), random_state = 50)\n",
    "df1_new = pd.concat([df1_majority, df1_minority_new])\n",
    "df1_new['label'].value_counts()"
   ]
  },
  {
   "cell_type": "markdown",
   "id": "e92af197",
   "metadata": {},
   "source": [
    "### Creating a pipeline"
   ]
  },
  {
   "cell_type": "markdown",
   "id": "d4f80a59",
   "metadata": {},
   "source": [
    "#### Separate pipelines for each classifier."
   ]
  },
  {
   "cell_type": "code",
   "execution_count": 15,
   "id": "54618d85",
   "metadata": {},
   "outputs": [],
   "source": [
    "# XGBoost pipeline\n",
    "\n",
    "pipe_xgb = Pipeline([('vect', CountVectorizer()), ('tfidf', TfidfTransformer()), ('xgb', XGBClassifier()),])"
   ]
  },
  {
   "cell_type": "code",
   "execution_count": 16,
   "id": "b64cb896",
   "metadata": {},
   "outputs": [],
   "source": [
    "# SGD pipeline\n",
    "\n",
    "pipe_sgd = Pipeline([('vect', CountVectorizer()), ('tfidf', TfidfTransformer()), ('sgd', SGDClassifier()),])"
   ]
  },
  {
   "cell_type": "code",
   "execution_count": 17,
   "id": "d8c04313",
   "metadata": {},
   "outputs": [],
   "source": [
    "# Naive Bayes pipeline\n",
    "\n",
    "pipe_nb = Pipeline([('vect', CountVectorizer()), ('tfidf', TfidfTransformer()), ('nb', MultinomialNB()),])"
   ]
  },
  {
   "cell_type": "code",
   "execution_count": 18,
   "id": "9cb63268",
   "metadata": {},
   "outputs": [],
   "source": [
    "# Split train dataset into train and test\n",
    "\n",
    "x_train, x_test, y_train, y_test = train_test_split(df1_new['tweet'], df1_new['label'], random_state = 0)"
   ]
  },
  {
   "cell_type": "markdown",
   "id": "a00ddecf",
   "metadata": {},
   "source": [
    "#### Fit models built on each pipeline"
   ]
  },
  {
   "cell_type": "code",
   "execution_count": 19,
   "id": "bb7d1381",
   "metadata": {},
   "outputs": [
    {
     "data": {
      "text/plain": [
       "0.908859913072551"
      ]
     },
     "execution_count": 19,
     "metadata": {},
     "output_type": "execute_result"
    }
   ],
   "source": [
    "# XGB Classifier\n",
    "\n",
    "model_xgb = pipe_xgb.fit(x_train, y_train)\n",
    "y_pred_1 = model_xgb.predict(x_test)\n",
    "f1_score(y_test, y_pred_1)"
   ]
  },
  {
   "cell_type": "code",
   "execution_count": 20,
   "id": "e5d93a74",
   "metadata": {},
   "outputs": [
    {
     "data": {
      "text/plain": [
       "0.966690756192103"
      ]
     },
     "execution_count": 20,
     "metadata": {},
     "output_type": "execute_result"
    }
   ],
   "source": [
    "# SGD Classifier\n",
    "\n",
    "model_sgd = pipe_sgd.fit(x_train, y_train)\n",
    "y_pred_2 = model_sgd.predict(x_test)\n",
    "f1_score(y_test, y_pred_2)"
   ]
  },
  {
   "cell_type": "code",
   "execution_count": 21,
   "id": "8beb16b2",
   "metadata": {},
   "outputs": [
    {
     "data": {
      "text/plain": [
       "0.9523318732285493"
      ]
     },
     "execution_count": 21,
     "metadata": {},
     "output_type": "execute_result"
    }
   ],
   "source": [
    "# Naive Bayes\n",
    "\n",
    "model_nb = pipe_nb.fit(x_train, y_train)\n",
    "y_pred_3 = model_nb.predict(x_test)\n",
    "f1_score(y_test, y_pred_3)"
   ]
  },
  {
   "cell_type": "markdown",
   "id": "ab73eeb0",
   "metadata": {},
   "source": [
    "#### As we can see SGD Classifier performs the best with Naive Bayes Classifier being a close second. XBG Classifier had way lesser accuracy possibly due to the lack of hyperparameter tuning."
   ]
  },
  {
   "cell_type": "markdown",
   "id": "065caf0c",
   "metadata": {},
   "source": [
    "### Using the SGD Classifier on the test dataset df2"
   ]
  },
  {
   "cell_type": "code",
   "execution_count": 22,
   "id": "bcd2d361",
   "metadata": {},
   "outputs": [
    {
     "name": "stdout",
     "output_type": "stream",
     "text": [
      "[0 1 0 ... 0 0 0]\n"
     ]
    }
   ],
   "source": [
    "predictions = model_sgd.predict(df2['tweet'])\n",
    "print(predictions)"
   ]
  },
  {
   "cell_type": "code",
   "execution_count": 23,
   "id": "05a48579",
   "metadata": {},
   "outputs": [],
   "source": [
    "# Write the predictions to a csv file\n",
    "\n",
    "df2['predictions'] = predictions\n",
    "df2.to_csv('predictions.csv', index = True)"
   ]
  }
 ],
 "metadata": {
  "kernelspec": {
   "display_name": "Python 3 (ipykernel)",
   "language": "python",
   "name": "python3"
  },
  "language_info": {
   "codemirror_mode": {
    "name": "ipython",
    "version": 3
   },
   "file_extension": ".py",
   "mimetype": "text/x-python",
   "name": "python",
   "nbconvert_exporter": "python",
   "pygments_lexer": "ipython3",
   "version": "3.11.5"
  }
 },
 "nbformat": 4,
 "nbformat_minor": 5
}
